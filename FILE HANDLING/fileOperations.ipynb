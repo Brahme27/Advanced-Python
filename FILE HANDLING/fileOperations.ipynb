{
 "cells": [
  {
   "cell_type": "code",
   "execution_count": 1,
   "metadata": {},
   "outputs": [
    {
     "name": "stdout",
     "output_type": "stream",
     "text": [
      "Hello I am brahmesh \n",
      "doing good hope you soo\n"
     ]
    }
   ],
   "source": [
    "with open(\"example.txt\",mode='r') as file:\n",
    "    contents=file.read()\n",
    "    print(contents)"
   ]
  },
  {
   "cell_type": "code",
   "execution_count": 2,
   "metadata": {},
   "outputs": [
    {
     "name": "stdout",
     "output_type": "stream",
     "text": [
      "Hello I am brahmesh \n",
      "\n",
      "doing good hope you soo\n"
     ]
    }
   ],
   "source": [
    "#Reading a file line by line \n",
    "with open(\"example.txt\",'r') as file:\n",
    "    for line in file:\n",
    "        print(line)"
   ]
  },
  {
   "cell_type": "code",
   "execution_count": 3,
   "metadata": {},
   "outputs": [
    {
     "name": "stdout",
     "output_type": "stream",
     "text": [
      "Hello I am brahmesh\n",
      "doing good hope you soo\n"
     ]
    }
   ],
   "source": [
    "#to remove new line character \n",
    "with open(\"example.txt\",'r') as file:\n",
    "    for line in file:\n",
    "        print(line.strip())"
   ]
  },
  {
   "cell_type": "code",
   "execution_count": 5,
   "metadata": {},
   "outputs": [],
   "source": [
    "#Writing a file(Over writing)\n",
    "with open(\"example.txt\",'w') as file:\n",
    "    file.write(\"This is over written file\\n\")\n",
    "    file.write(\"this clears old file\")"
   ]
  },
  {
   "cell_type": "code",
   "execution_count": 8,
   "metadata": {},
   "outputs": [],
   "source": [
    "#Writing a file (without Overwriting)\n",
    "with open(\"example.txt\",mode='a') as file:\n",
    "    file.write(\"this does not overwrite the content\\n\")\n",
    "    file.write(\"Instead append to the existing file\")"
   ]
  },
  {
   "cell_type": "code",
   "execution_count": 9,
   "metadata": {},
   "outputs": [],
   "source": [
    "#Writing list of lines to a file\n",
    "lines=['First line\\n','second line\\n','Third line\\n']\n",
    "with open('example.txt','a') as file:\n",
    "    file.writelines(lines)"
   ]
  },
  {
   "cell_type": "code",
   "execution_count": 10,
   "metadata": {},
   "outputs": [],
   "source": [
    "#Binary files\n",
    "data=b\"this is Binary file\"\n",
    "with open('binaryfile.bin','wb') as file:\n",
    "    file.write(data)"
   ]
  },
  {
   "cell_type": "code",
   "execution_count": 11,
   "metadata": {},
   "outputs": [
    {
     "name": "stdout",
     "output_type": "stream",
     "text": [
      "b'this is Binary file'\n"
     ]
    }
   ],
   "source": [
    "data=b\"this is Binary file\"\n",
    "with open('binaryfile.bin','rb') as file:\n",
    "    contents=file.read()\n",
    "print(contents)    "
   ]
  },
  {
   "cell_type": "code",
   "execution_count": 12,
   "metadata": {},
   "outputs": [],
   "source": [
    "#Reading the contents from one file and writing it into another file"
   ]
  },
  {
   "cell_type": "code",
   "execution_count": 13,
   "metadata": {},
   "outputs": [],
   "source": [
    "with open('example.txt','r') as file:\n",
    "    contents=file.read()\n",
    "\n",
    "with open('Destination.txt','w') as file:\n",
    "    file.write(contents)    "
   ]
  },
  {
   "cell_type": "code",
   "execution_count": 15,
   "metadata": {},
   "outputs": [
    {
     "name": "stdout",
     "output_type": "stream",
     "text": [
      "['This is over written file\\n', 'this clears old file\\n', ' this does not overwrite the content\\n', 'Instead append to the existing filethis does not overwrite the content\\n', 'Instead append to the existing fileFirst line\\n', 'second line\\n', 'Third line\\n']\n",
      "7\n"
     ]
    }
   ],
   "source": [
    "with open('example.txt','r') as file:\n",
    "    lines=file.readlines()\n",
    "    line_count=len(lines)\n",
    "\n",
    "print(lines)\n",
    "print(line_count)"
   ]
  },
  {
   "cell_type": "code",
   "execution_count": 16,
   "metadata": {},
   "outputs": [
    {
     "name": "stdout",
     "output_type": "stream",
     "text": [
      "This is over written file\n",
      "\n",
      "this clears old file\n",
      "\n",
      " this does not overwrite the content\n",
      "\n",
      "Instead append to the existing filethis does not overwrite the content\n",
      "\n",
      "Instead append to the existing fileFirst line\n",
      "\n",
      "second line\n",
      "\n",
      "Third line\n",
      "\n"
     ]
    }
   ],
   "source": [
    "for line in lines:\n",
    "    print(line)"
   ]
  },
  {
   "cell_type": "code",
   "execution_count": 17,
   "metadata": {},
   "outputs": [
    {
     "name": "stdout",
     "output_type": "stream",
     "text": [
      "['This', 'is', 'over', 'written', 'file']\n"
     ]
    }
   ],
   "source": [
    "print('This is over written file\\n'.split())"
   ]
  },
  {
   "cell_type": "code",
   "execution_count": 18,
   "metadata": {},
   "outputs": [],
   "source": [
    "#Reading and Writing at a time"
   ]
  },
  {
   "cell_type": "code",
   "execution_count": 20,
   "metadata": {},
   "outputs": [
    {
     "name": "stdout",
     "output_type": "stream",
     "text": [
      "hello world\n",
      "This is new line\n",
      "\n"
     ]
    }
   ],
   "source": [
    "with open('example.txt',mode='w+') as file:\n",
    "    file.write(\"hello world\\n\")\n",
    "    file.write(\"This is new line\\n\")\n",
    "    #move cursor to the begining\n",
    "    file.seek(0)\n",
    "    #reading the file\n",
    "    contents=file.read()\n",
    "    print(contents)"
   ]
  },
  {
   "cell_type": "code",
   "execution_count": null,
   "metadata": {},
   "outputs": [],
   "source": []
  }
 ],
 "metadata": {
  "kernelspec": {
   "display_name": "Python 3",
   "language": "python",
   "name": "python3"
  },
  "language_info": {
   "codemirror_mode": {
    "name": "ipython",
    "version": 3
   },
   "file_extension": ".py",
   "mimetype": "text/x-python",
   "name": "python",
   "nbconvert_exporter": "python",
   "pygments_lexer": "ipython3",
   "version": "3.10.14"
  }
 },
 "nbformat": 4,
 "nbformat_minor": 2
}
