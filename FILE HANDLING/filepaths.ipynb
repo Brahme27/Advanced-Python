{
 "cells": [
  {
   "cell_type": "code",
   "execution_count": 1,
   "metadata": {},
   "outputs": [],
   "source": [
    "#create a new directory"
   ]
  },
  {
   "cell_type": "code",
   "execution_count": 2,
   "metadata": {},
   "outputs": [
    {
     "name": "stdout",
     "output_type": "stream",
     "text": [
      "New directory has created\n"
     ]
    }
   ],
   "source": [
    "import os\n",
    "new_directory=\"newDirectory\"\n",
    "os.mkdir(new_directory)\n",
    "print(\"New directory has created\")"
   ]
  },
  {
   "cell_type": "code",
   "execution_count": 3,
   "metadata": {},
   "outputs": [],
   "source": [
    "#listing all files and Directories"
   ]
  },
  {
   "cell_type": "code",
   "execution_count": 4,
   "metadata": {},
   "outputs": [
    {
     "name": "stdout",
     "output_type": "stream",
     "text": [
      "['binaryfile.bin', 'Destination.txt', 'example.txt', 'fileOperations.ipynb', 'filepaths.ipynb', 'newDirectory']\n"
     ]
    }
   ],
   "source": [
    "all_files=os.listdir('.')\n",
    "print(all_files)"
   ]
  },
  {
   "cell_type": "code",
   "execution_count": 5,
   "metadata": {},
   "outputs": [],
   "source": [
    "#Checking wheather oath exists or not"
   ]
  },
  {
   "cell_type": "code",
   "execution_count": 6,
   "metadata": {},
   "outputs": [
    {
     "name": "stdout",
     "output_type": "stream",
     "text": [
      "path example1.txt does not exists\n"
     ]
    }
   ],
   "source": [
    "path=\"example1.txt\"\n",
    "if os.path.exists(path):\n",
    "    print(f\"the path {path} exists\")\n",
    "else:\n",
    "    print(f\"path {path} does not exists\")    "
   ]
  },
  {
   "cell_type": "code",
   "execution_count": 7,
   "metadata": {},
   "outputs": [
    {
     "name": "stdout",
     "output_type": "stream",
     "text": [
      "path example1.txt is neither a file nor directory\n"
     ]
    }
   ],
   "source": [
    "#Checking a path is file or Directory\n",
    "path=\"example1.txt\"\n",
    "if os.path.isfile(path):\n",
    "    print(f\"the path {path} is a file\")\n",
    "elif os.path.isdir(path):\n",
    "    print(f\"the path {path} is a directory\")    \n",
    "else:\n",
    "    print(f\"path {path} is neither a file nor directory\")"
   ]
  },
  {
   "cell_type": "code",
   "execution_count": 8,
   "metadata": {},
   "outputs": [
    {
     "name": "stdout",
     "output_type": "stream",
     "text": [
      "the path newDirectory is a directory\n"
     ]
    }
   ],
   "source": [
    "#Checking a path is file or Directory\n",
    "path=\"newDirectory\"\n",
    "if os.path.isfile(path):\n",
    "    print(f\"the path {path} is a file\")\n",
    "elif os.path.isdir(path):\n",
    "    print(f\"the path {path} is a directory\")    \n",
    "else:\n",
    "    print(f\"path {path} is neither a file nor directory\")"
   ]
  },
  {
   "cell_type": "code",
   "execution_count": 9,
   "metadata": {},
   "outputs": [
    {
     "name": "stdout",
     "output_type": "stream",
     "text": [
      "d:\\Advanced Python\\FILE HANDLING\\example.txt\n"
     ]
    }
   ],
   "source": [
    "#getting the absolute path\n",
    "relative_path=\"example.txt\"\n",
    "absolute_path=os.path.abspath(relative_path)\n",
    "print(absolute_path)"
   ]
  },
  {
   "cell_type": "code",
   "execution_count": null,
   "metadata": {},
   "outputs": [],
   "source": []
  }
 ],
 "metadata": {
  "kernelspec": {
   "display_name": "Python 3",
   "language": "python",
   "name": "python3"
  },
  "language_info": {
   "codemirror_mode": {
    "name": "ipython",
    "version": 3
   },
   "file_extension": ".py",
   "mimetype": "text/x-python",
   "name": "python",
   "nbconvert_exporter": "python",
   "pygments_lexer": "ipython3",
   "version": "3.10.14"
  }
 },
 "nbformat": 4,
 "nbformat_minor": 2
}
