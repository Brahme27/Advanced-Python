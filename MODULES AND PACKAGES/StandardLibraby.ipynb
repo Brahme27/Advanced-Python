{
 "cells": [
  {
   "cell_type": "code",
   "execution_count": null,
   "metadata": {},
   "outputs": [],
   "source": [
    "''' \n",
    "1. Data Types and Data Structures\n",
    "\n",
    "math\n",
    "statistics\n",
    "collections\n",
    "array\n",
    "heapq\n",
    "itertools\n",
    "\n",
    "2. File I/O and Directory Access\n",
    "\n",
    "os\n",
    "shutil\n",
    "io\n",
    "glob\n",
    "pathlib\n",
    "\n",
    "3. String Handling and Text Processing\n",
    "\n",
    "re\n",
    "string\n",
    "textwrap\n",
    "unicodedata\n",
    "difflib\n",
    "\n",
    "4. Dates and Times\n",
    "\n",
    "time\n",
    "datetime\n",
    "calendar\n",
    "dateutil\n",
    "zoneinfo\n",
    "\n",
    "5. Data Serialization and Persistence\n",
    "\n",
    "json\n",
    "csv\n",
    "pickle\n",
    "sqlite3\n",
    "configparser\n",
    "\n",
    "6. Networking and Internet Protocols\n",
    "\n",
    "socket\n",
    "http\n",
    "urllib\n",
    "ftplib\n",
    "smtplib\n",
    "\n",
    "7. Operating System Interfaces\n",
    "\n",
    "sys\n",
    "subprocess\n",
    "signal\n",
    "platform\n",
    "multiprocessing\n",
    "\n",
    "8. Debugging and Testing\n",
    "\n",
    "logging\n",
    "unittest\n",
    "pdb\n",
    "traceback\n",
    "doctest\n",
    "\n",
    "9. Cryptography and Security\n",
    "\n",
    "hashlib\n",
    "hmac\n",
    "secrets\n",
    "ssl\n",
    "crypt\n",
    "\n",
    "10. Concurrent Programming\n",
    "\n",
    "threading\n",
    "multiprocessing\n",
    "asyncio\n",
    "concurrent.futures\n",
    "queue\n",
    "\n",
    "11. Mathematics and Number Theory\n",
    "\n",
    "math\n",
    "random\n",
    "fractions\n",
    "decimal\n",
    "statistics\n",
    "\n",
    "12. Miscellaneous\n",
    "\n",
    "functools\n",
    "contextlib\n",
    "enum\n",
    "typing\n",
    "dataclasses\n",
    "\n",
    "13. Other Utilities\n",
    "\n",
    "argparse\n",
    "getopt\n",
    "base64\n",
    "uuid\n",
    "bz2\n",
    "'''"
   ]
  },
  {
   "cell_type": "code",
   "execution_count": null,
   "metadata": {},
   "outputs": [],
   "source": [
    "#there are over 300 modules in the standard library."
   ]
  },
  {
   "cell_type": "code",
   "execution_count": 2,
   "metadata": {},
   "outputs": [
    {
     "data": {
      "text/plain": [
       "array('i', [1, 2, 3, 4, 5])"
      ]
     },
     "execution_count": 2,
     "metadata": {},
     "output_type": "execute_result"
    }
   ],
   "source": [
    "import array\n",
    "arr=array.array(\"i\",[1,2,3,4,5])\n",
    "arr"
   ]
  },
  {
   "cell_type": "code",
   "execution_count": 3,
   "metadata": {},
   "outputs": [
    {
     "name": "stdout",
     "output_type": "stream",
     "text": [
      "3.1622776601683795\n",
      "3.141592653589793\n"
     ]
    }
   ],
   "source": [
    "import math \n",
    "print(math.sqrt(10))\n",
    "print(math.pi)\n"
   ]
  },
  {
   "cell_type": "code",
   "execution_count": 6,
   "metadata": {},
   "outputs": [
    {
     "name": "stdout",
     "output_type": "stream",
     "text": [
      "3\n",
      "cherry\n"
     ]
    }
   ],
   "source": [
    "import random\n",
    "print(random.randint(1,10))\n",
    "print(random.choice([\"apple\",\"banana\",\"cherry\"]))"
   ]
  },
  {
   "cell_type": "code",
   "execution_count": 7,
   "metadata": {},
   "outputs": [
    {
     "name": "stdout",
     "output_type": "stream",
     "text": [
      "d:\\Advanced Python\\Modules And Packages\n"
     ]
    }
   ],
   "source": [
    "import os \n",
    "print(os.getcwd())"
   ]
  },
  {
   "cell_type": "code",
   "execution_count": 8,
   "metadata": {},
   "outputs": [],
   "source": [
    "#creating directories\n",
    "os.mkdir(\"OS DIR\")"
   ]
  },
  {
   "cell_type": "code",
   "execution_count": 9,
   "metadata": {},
   "outputs": [],
   "source": [
    "#hifg level operations on files using shutil"
   ]
  },
  {
   "cell_type": "code",
   "execution_count": 10,
   "metadata": {},
   "outputs": [
    {
     "data": {
      "text/plain": [
       "'destination.txt'"
      ]
     },
     "execution_count": 10,
     "metadata": {},
     "output_type": "execute_result"
    }
   ],
   "source": [
    "import shutil\n",
    "shutil.copyfile(\"source.txt\",\"destination.txt\")"
   ]
  },
  {
   "cell_type": "code",
   "execution_count": 13,
   "metadata": {},
   "outputs": [
    {
     "name": "stdout",
     "output_type": "stream",
     "text": [
      "{\"name\": \"brahme\", \"age\": 25}\n",
      "<class 'str'>\n",
      "{'name': 'brahme', 'age': 25}\n",
      "<class 'dict'>\n"
     ]
    }
   ],
   "source": [
    "#Data Serialization\n",
    "import json \n",
    "data={\n",
    "    \"name\":\"brahme\",\"age\":25\n",
    "}\n",
    "json_str=json.dumps(data)\n",
    "print(json_str)\n",
    "print(type(json_str))\n",
    "\n",
    "parsed_data=json.loads(json_str)\n",
    "print(parsed_data)\n",
    "print(type(parsed_data))"
   ]
  },
  {
   "cell_type": "code",
   "execution_count": 17,
   "metadata": {},
   "outputs": [
    {
     "name": "stdout",
     "output_type": "stream",
     "text": [
      "['name', 'age']\n",
      "['Brahme', '20']\n"
     ]
    }
   ],
   "source": [
    "#CSV\n",
    "import csv \n",
    "with open('example.csv',mode='w',newline='') as file:\n",
    "    writer=csv.writer(file)\n",
    "    writer.writerow([\"name\",\"age\"])\n",
    "    writer.writerow([\"Brahme\",20])\n",
    "\n",
    "with open(\"example.csv\",mode='r') as file:\n",
    "    reader=csv.reader(file)\n",
    "    for line in reader:\n",
    "        print(line) "
   ]
  },
  {
   "cell_type": "code",
   "execution_count": 18,
   "metadata": {},
   "outputs": [
    {
     "name": "stdout",
     "output_type": "stream",
     "text": [
      "2024-10-15 14:37:08.590248\n"
     ]
    }
   ],
   "source": [
    "#DATE TIME\n",
    "from datetime import datetime,timedelta\n",
    "\n",
    "now=datetime.now()\n",
    "print(now)"
   ]
  },
  {
   "cell_type": "code",
   "execution_count": 20,
   "metadata": {},
   "outputs": [
    {
     "name": "stdout",
     "output_type": "stream",
     "text": [
      "2024-10-14 14:37:08.590248\n"
     ]
    }
   ],
   "source": [
    "yesterdat_at_same_time=now-timedelta(days=1)\n",
    "print(yesterdat_at_same_time)"
   ]
  },
  {
   "cell_type": "code",
   "execution_count": 21,
   "metadata": {},
   "outputs": [
    {
     "name": "stdout",
     "output_type": "stream",
     "text": [
      "1728983364.7403107\n",
      "1728983374.74302\n"
     ]
    }
   ],
   "source": [
    "#TIME\n",
    "import time\n",
    "\n",
    "print(time.time())\n",
    "time.sleep(10)#sleep for 10 sec\n",
    "print(time.time())"
   ]
  },
  {
   "cell_type": "code",
   "execution_count": 24,
   "metadata": {},
   "outputs": [
    {
     "data": {
      "text/plain": [
       "'1000'"
      ]
     },
     "execution_count": 24,
     "metadata": {},
     "output_type": "execute_result"
    }
   ],
   "source": [
    "#Regular expression\n",
    "import re \n",
    "pattern=\"\\d+\"\n",
    "text=\"he bought 1000 apples\"\n",
    "match=re.search(pattern,text)\n",
    "match.group()"
   ]
  },
  {
   "cell_type": "code",
   "execution_count": null,
   "metadata": {},
   "outputs": [],
   "source": []
  }
 ],
 "metadata": {
  "kernelspec": {
   "display_name": "Python 3",
   "language": "python",
   "name": "python3"
  },
  "language_info": {
   "codemirror_mode": {
    "name": "ipython",
    "version": 3
   },
   "file_extension": ".py",
   "mimetype": "text/x-python",
   "name": "python",
   "nbconvert_exporter": "python",
   "pygments_lexer": "ipython3",
   "version": "3.10.14"
  }
 },
 "nbformat": 4,
 "nbformat_minor": 2
}
