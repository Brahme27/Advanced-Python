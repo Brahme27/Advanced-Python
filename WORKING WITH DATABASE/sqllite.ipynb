{
 "cells": [
  {
   "cell_type": "markdown",
   "metadata": {
    "vscode": {
     "languageId": "plaintext"
    }
   },
   "source": [
    "1. SQL (General) in Python:\n",
    "SQL is a language used to manage and query relational databases like MySQL, PostgreSQL, or SQL Server.\n",
    "To work with SQL databases in Python, you use libraries like mysql-connector, psycopg2, or pyodbc, depending on the type of SQL database.\n",
    "These databases usually require an external server to be installed and running\n",
    "\n",
    "2. SQLite in Python:\n",
    "SQLite is a self-contained, serverless, zero-configuration database engine.\n",
    "It's perfect for smaller applications or embedded systems because it doesn't need a separate server.\n",
    "In Python, SQLite is built-in, so you don't need to install any external libraries. You can interact with SQLite using Python's sqlite3 module."
   ]
  },
  {
   "cell_type": "code",
   "execution_count": 1,
   "metadata": {},
   "outputs": [],
   "source": [
    "import sqlite3"
   ]
  },
  {
   "cell_type": "code",
   "execution_count": 2,
   "metadata": {},
   "outputs": [
    {
     "data": {
      "text/plain": [
       "<sqlite3.Connection at 0x2063b084e40>"
      ]
     },
     "execution_count": 2,
     "metadata": {},
     "output_type": "execute_result"
    }
   ],
   "source": [
    "## connecting to an sqllite database\n",
    "connection=sqlite3.connect(\"example.db\")\n",
    "connection"
   ]
  },
  {
   "cell_type": "code",
   "execution_count": 3,
   "metadata": {},
   "outputs": [],
   "source": [
    "cursor=connection.cursor()"
   ]
  },
  {
   "cell_type": "code",
   "execution_count": 4,
   "metadata": {},
   "outputs": [
    {
     "data": {
      "text/plain": [
       "<sqlite3.Cursor at 0x2063af872c0>"
      ]
     },
     "execution_count": 4,
     "metadata": {},
     "output_type": "execute_result"
    }
   ],
   "source": [
    "#Create a table\n",
    "cursor.execute('''\n",
    "Create Table if not exists employees(\n",
    "    id INT PRIMARY KEY,\n",
    "    name TEXT NOT NULL,\n",
    "    age INT,\n",
    "    deapartnent text\n",
    "    )\n",
    "''')"
   ]
  },
  {
   "cell_type": "code",
   "execution_count": 5,
   "metadata": {},
   "outputs": [],
   "source": [
    "#Commit the changes\n",
    "connection.commit()"
   ]
  },
  {
   "cell_type": "code",
   "execution_count": 6,
   "metadata": {},
   "outputs": [
    {
     "data": {
      "text/plain": [
       "<sqlite3.Cursor at 0x2063af872c0>"
      ]
     },
     "execution_count": 6,
     "metadata": {},
     "output_type": "execute_result"
    }
   ],
   "source": [
    "cursor.execute('''\n",
    "Select * from employees\n",
    "''' )"
   ]
  },
  {
   "cell_type": "code",
   "execution_count": 9,
   "metadata": {},
   "outputs": [
    {
     "data": {
      "text/plain": [
       "<sqlite3.Cursor at 0x2063af872c0>"
      ]
     },
     "execution_count": 9,
     "metadata": {},
     "output_type": "execute_result"
    }
   ],
   "source": [
    "# Insert the data in sql lite\n",
    "cursor.execute('''\n",
    "insert into employees(name,age,deapartnent)\n",
    "               values(\"Brahme\",20,\"ML engineer\")\n",
    "''')"
   ]
  },
  {
   "cell_type": "code",
   "execution_count": 10,
   "metadata": {},
   "outputs": [],
   "source": [
    "connection.commit()"
   ]
  },
  {
   "cell_type": "code",
   "execution_count": 12,
   "metadata": {},
   "outputs": [
    {
     "name": "stdout",
     "output_type": "stream",
     "text": [
      "(None, 'Brahme', 20, 'ML engineer')\n"
     ]
    }
   ],
   "source": [
    "cursor.execute('''\n",
    "Select * from employees\n",
    "''' )\n",
    "\n",
    "rows=cursor.fetchall()\n",
    "for row in rows:\n",
    "    print(row)"
   ]
  },
  {
   "cell_type": "code",
   "execution_count": 15,
   "metadata": {},
   "outputs": [],
   "source": [
    "## update the data in the table\n",
    "cursor.execute('''\n",
    "update employees\n",
    "set age=90\n",
    "where name=\"Brahme\"\n",
    "''' )\n",
    "\n",
    "connection.commit()"
   ]
  },
  {
   "cell_type": "code",
   "execution_count": 16,
   "metadata": {},
   "outputs": [
    {
     "name": "stdout",
     "output_type": "stream",
     "text": [
      "(None, 'Brahme', 90, 'ML engineer')\n"
     ]
    }
   ],
   "source": [
    "cursor.execute('''\n",
    "Select * from employees\n",
    "''' )\n",
    "\n",
    "rows=cursor.fetchall()\n",
    "for row in rows:\n",
    "    print(row)"
   ]
  },
  {
   "cell_type": "markdown",
   "metadata": {},
   "source": [
    "Similarly we can do all sql operations"
   ]
  }
 ],
 "metadata": {
  "kernelspec": {
   "display_name": "Python 3",
   "language": "python",
   "name": "python3"
  },
  "language_info": {
   "codemirror_mode": {
    "name": "ipython",
    "version": 3
   },
   "file_extension": ".py",
   "mimetype": "text/x-python",
   "name": "python",
   "nbconvert_exporter": "python",
   "pygments_lexer": "ipython3",
   "version": "3.10.14"
  }
 },
 "nbformat": 4,
 "nbformat_minor": 2
}
