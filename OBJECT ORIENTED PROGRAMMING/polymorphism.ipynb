{
 "cells": [
  {
   "cell_type": "markdown",
   "metadata": {
    "vscode": {
     "languageId": "plaintext"
    }
   },
   "source": [
    "POLYMORPHISM\n",
    "\n",
    "polymorphism is a core concept in object oriented programming .It provides \n",
    "a way to perform single action in different forms.polymorphism typically achives through\n",
    "methods overriding and method overloading ,interfaces."
   ]
  },
  {
   "cell_type": "markdown",
   "metadata": {
    "vscode": {
     "languageId": "plaintext"
    }
   },
   "source": [
    "METHOD OVERRIDING\n",
    "\n",
    "child class has its own implementation for the method which \n",
    "is already defined in the parent class "
   ]
  },
  {
   "cell_type": "code",
   "execution_count": 3,
   "metadata": {},
   "outputs": [
    {
     "name": "stdout",
     "output_type": "stream",
     "text": [
      "Dog is barking\n",
      "Meow\n"
     ]
    }
   ],
   "source": [
    "# Parent class\n",
    "class Animal:\n",
    "    def speak(self):\n",
    "        return \"Sound of the animal\"\n",
    "\n",
    "# Derived class\n",
    "class Dog(Animal):\n",
    "    def speak(self):\n",
    "        return \"Dog is barking\"\n",
    "\n",
    "# Derived Class\n",
    "class CAt(Animal):\n",
    "    def speak(self):\n",
    "        return \"Meow\"\n",
    "\n",
    "# Function to demonstrate polymorphism\n",
    "def animal_speak(animal):\n",
    "    print(animal.speak())\n",
    "\n",
    "dog=Dog()\n",
    "cat=CAt()\n",
    "print(dog.speak())\n",
    "print(cat.speak())"
   ]
  },
  {
   "cell_type": "code",
   "execution_count": 5,
   "metadata": {},
   "outputs": [
    {
     "name": "stdout",
     "output_type": "stream",
     "text": [
      "Dog is barking\n",
      "Meow\n"
     ]
    }
   ],
   "source": [
    "animal_speak(dog)\n",
    "animal_speak(cat)"
   ]
  },
  {
   "cell_type": "code",
   "execution_count": 7,
   "metadata": {},
   "outputs": [
    {
     "name": "stdout",
     "output_type": "stream",
     "text": [
      "The area of given shape is 20\n",
      "The area of given shape is 78.5\n"
     ]
    }
   ],
   "source": [
    "class Shape:\n",
    "    def area(self):\n",
    "        return \"The area of the figure\"\n",
    "    \n",
    "\n",
    "class Rectangle(Shape):\n",
    "    def __init__(self,width,height):\n",
    "        self.width=width \n",
    "        self.height=height\n",
    "    def area(self):\n",
    "        return self.width*self.height\n",
    "\n",
    "class Circle(Shape):\n",
    "    def __init__(self,radius):\n",
    "        self.radius=radius\n",
    "\n",
    "    def area(self):\n",
    "        return 3.14*self.radius*self.radius\n",
    "       \n",
    "\n",
    "# Function to demonstrate polymorphism\n",
    "def print_area(shape):\n",
    "    print(f\"The area of given shape is {shape.area()}\")\n",
    "\n",
    "rectangle=Rectangle(4,5)\n",
    "circle=Circle(5)\n",
    "#print(rectangle.area())\n",
    "#print(circle.area())\n",
    "print_area(rectangle)\n",
    "print_area(circle)\n",
    "\n",
    "\n"
   ]
  },
  {
   "cell_type": "markdown",
   "metadata": {},
   "source": [
    "POLYMORPHISM WITH ABSTRACT BASE CLASSES"
   ]
  },
  {
   "cell_type": "code",
   "execution_count": 8,
   "metadata": {},
   "outputs": [],
   "source": [
    "from abc import ABC,abstractmethod\n",
    "\n",
    "# Defining an Abstract class\n",
    "class Vechile(ABC):\n",
    "    @abstractmethod\n",
    "    def start_engine(self):\n",
    "        pass\n",
    "\n",
    "# Derived class 1\n",
    "class Car(Vechile):\n",
    "    def start_engine(self):\n",
    "        return \"car engine started\"\n",
    "\n",
    "class Bus(Vechile):\n",
    "    def start_engine(self):\n",
    "        return \"bus engine started\""
   ]
  },
  {
   "cell_type": "code",
   "execution_count": 9,
   "metadata": {},
   "outputs": [],
   "source": [
    "# Creating objects and Cars\n",
    "car=Car()\n",
    "bus=Bus()"
   ]
  },
  {
   "cell_type": "code",
   "execution_count": 11,
   "metadata": {},
   "outputs": [
    {
     "name": "stdout",
     "output_type": "stream",
     "text": [
      "car engine started\n",
      "bus engine started\n"
     ]
    }
   ],
   "source": [
    "print(car.start_engine())\n",
    "print(bus.start_engine())"
   ]
  },
  {
   "cell_type": "code",
   "execution_count": null,
   "metadata": {},
   "outputs": [],
   "source": []
  }
 ],
 "metadata": {
  "kernelspec": {
   "display_name": "Python 3",
   "language": "python",
   "name": "python3"
  },
  "language_info": {
   "codemirror_mode": {
    "name": "ipython",
    "version": 3
   },
   "file_extension": ".py",
   "mimetype": "text/x-python",
   "name": "python",
   "nbconvert_exporter": "python",
   "pygments_lexer": "ipython3",
   "version": "3.10.14"
  }
 },
 "nbformat": 4,
 "nbformat_minor": 2
}
