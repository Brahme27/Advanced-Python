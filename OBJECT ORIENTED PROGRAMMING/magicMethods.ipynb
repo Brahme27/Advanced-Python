{
 "cells": [
  {
   "cell_type": "markdown",
   "metadata": {
    "vscode": {
     "languageId": "plaintext"
    }
   },
   "source": [
    "MAGIC METHODS\n",
    "\n",
    "are also known as Dunder methods,that strats and ends with double underscores.\n",
    "These methods enable you to define the behaviour of objects for \n",
    "built in operations such as aritimatic ,comparision and more"
   ]
  },
  {
   "cell_type": "code",
   "execution_count": 1,
   "metadata": {},
   "outputs": [
    {
     "data": {
      "text/plain": [
       "'\\nMAGIC METHODS\\n\\n__init__:initializes the new instance of a class\\n__del__:destroys the instance of a class\\n__repr__:returns an official string representation of the object\\n__str__:returns a string representation of the object\\n__len__:returns the len of an object\\n__getitem__:gets an item from a container\\n__setitem__:sets an item in a container '"
      ]
     },
     "execution_count": 1,
     "metadata": {},
     "output_type": "execute_result"
    }
   ],
   "source": [
    "'''\n",
    "MAGIC METHODS\n",
    "\n",
    "__init__:initializes the new instance of a class\n",
    "__del__:destroys the instance of a class\n",
    "__repr__:returns an official string representation of the object\n",
    "__str__:returns a string representation of the object\n",
    "__len__:returns the len of an object\n",
    "__getitem__:gets an item from a container\n",
    "__setitem__:sets an item in a container '''"
   ]
  },
  {
   "cell_type": "code",
   "execution_count": 2,
   "metadata": {},
   "outputs": [
    {
     "name": "stdout",
     "output_type": "stream",
     "text": [
      "<__main__.Person object at 0x000001D376129120>\n"
     ]
    }
   ],
   "source": [
    "# Basic Magic methods\n",
    "class Person:\n",
    "    def __init__(self,name,age):\n",
    "        self.name=name \n",
    "        self.age=age \n",
    "\n",
    "person=Person(\"Brahme\",32)\n",
    "print(person)  # we can over ride this message"
   ]
  },
  {
   "cell_type": "code",
   "execution_count": 3,
   "metadata": {},
   "outputs": [
    {
     "name": "stdout",
     "output_type": "stream",
     "text": [
      "Brahme,32 years old \n"
     ]
    }
   ],
   "source": [
    "# Basic Magic methods\n",
    "class Person:\n",
    "    def __init__(self,name,age):\n",
    "        self.name=name \n",
    "        self.age=age \n",
    "\n",
    "    def __str__(self):\n",
    "        return f\"{self.name},{self.age} years old \"\n",
    "    \n",
    "person=Person(\"Brahme\",32)\n",
    "print(person) "
   ]
  },
  {
   "cell_type": "code",
   "execution_count": 5,
   "metadata": {},
   "outputs": [
    {
     "name": "stdout",
     "output_type": "stream",
     "text": [
      "Person=Brahme,age=32\n"
     ]
    }
   ],
   "source": [
    "class Person:\n",
    "    def __init__(self,name,age):\n",
    "        self.name=name \n",
    "        self.age=age \n",
    "\n",
    "    def __str__(self):\n",
    "        return f\"{self.name},{self.age} years old \"\n",
    "    \n",
    "    def __repr__(self):\n",
    "        return f\"Person={self.name},age={self.age}\"\n",
    "    \n",
    "person=Person(\"Brahme\",32)\n",
    "#print(person) \n",
    "print(repr(person))"
   ]
  },
  {
   "cell_type": "code",
   "execution_count": null,
   "metadata": {},
   "outputs": [],
   "source": []
  }
 ],
 "metadata": {
  "kernelspec": {
   "display_name": "Python 3",
   "language": "python",
   "name": "python3"
  },
  "language_info": {
   "codemirror_mode": {
    "name": "ipython",
    "version": 3
   },
   "file_extension": ".py",
   "mimetype": "text/x-python",
   "name": "python",
   "nbconvert_exporter": "python",
   "pygments_lexer": "ipython3",
   "version": "3.10.14"
  }
 },
 "nbformat": 4,
 "nbformat_minor": 2
}
