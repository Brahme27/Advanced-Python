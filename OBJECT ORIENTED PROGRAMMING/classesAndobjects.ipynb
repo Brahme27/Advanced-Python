{
 "cells": [
  {
   "cell_type": "markdown",
   "metadata": {
    "vscode": {
     "languageId": "plaintext"
    }
   },
   "source": [
    "CLASSES AND OBJECTS"
   ]
  },
  {
   "cell_type": "markdown",
   "metadata": {
    "vscode": {
     "languageId": "plaintext"
    }
   },
   "source": [
    "OOP- is a programming paradigm that uses \"objects\" to design applications\n",
    "and computer programs.OOP allows for modelling real-world scenarios using classes & Objects \n"
   ]
  },
  {
   "cell_type": "code",
   "execution_count": 2,
   "metadata": {},
   "outputs": [
    {
     "name": "stdout",
     "output_type": "stream",
     "text": [
      "<__main__.Car object at 0x0000021A2591CB50>\n",
      "<__main__.Car object at 0x0000021A2591C460>\n"
     ]
    }
   ],
   "source": [
    "# A class is the blue print for creating objects.Attributes,methods\n",
    "class Car:\n",
    "    pass \n",
    "\n",
    "#Creating an object of the class Car\n",
    "audi=Car()\n",
    "bmw=Car()\n",
    "\n",
    "print(audi)\n",
    "print(bmw)"
   ]
  },
  {
   "cell_type": "code",
   "execution_count": 3,
   "metadata": {},
   "outputs": [
    {
     "data": {
      "text/plain": [
       "['__class__',\n",
       " '__delattr__',\n",
       " '__dict__',\n",
       " '__dir__',\n",
       " '__doc__',\n",
       " '__eq__',\n",
       " '__format__',\n",
       " '__ge__',\n",
       " '__getattribute__',\n",
       " '__gt__',\n",
       " '__hash__',\n",
       " '__init__',\n",
       " '__init_subclass__',\n",
       " '__le__',\n",
       " '__lt__',\n",
       " '__module__',\n",
       " '__ne__',\n",
       " '__new__',\n",
       " '__reduce__',\n",
       " '__reduce_ex__',\n",
       " '__repr__',\n",
       " '__setattr__',\n",
       " '__sizeof__',\n",
       " '__str__',\n",
       " '__subclasshook__',\n",
       " '__weakref__']"
      ]
     },
     "execution_count": 3,
     "metadata": {},
     "output_type": "execute_result"
    }
   ],
   "source": [
    "dir(audi)"
   ]
  },
  {
   "cell_type": "code",
   "execution_count": 5,
   "metadata": {},
   "outputs": [
    {
     "name": "stdout",
     "output_type": "stream",
     "text": [
      "<__main__.Dog object at 0x0000021A25990400>\n",
      "12\n",
      "JermanShepard\n"
     ]
    }
   ],
   "source": [
    "# Instance variable and Methods \n",
    "class Dog:\n",
    "    # constructor\n",
    "    def __init__(self,name,age):\n",
    "        self.name=name \n",
    "        self.age=age\n",
    "\n",
    "#create objects\n",
    "dog1=Dog(\"JermanShepard\",12)\n",
    "print(dog1)        \n",
    "print(dog1.age)\n",
    "print(dog1.name)"
   ]
  },
  {
   "cell_type": "code",
   "execution_count": 7,
   "metadata": {},
   "outputs": [
    {
     "name": "stdout",
     "output_type": "stream",
     "text": [
      "<__main__.Dog object at 0x0000021A25991150>\n",
      "10\n",
      "JackRusselTerrier\n",
      "\n",
      "<__main__.Dog object at 0x0000021A259911B0>\n",
      "15\n",
      "Poodle\n"
     ]
    }
   ],
   "source": [
    "#similarly we ca create any number of dog objects\n",
    "dog2=Dog(\"JackRusselTerrier\",10)\n",
    "dog3=Dog(\"Poodle\",15)\n",
    "print(dog2)        \n",
    "print(dog2.age)\n",
    "print(dog2.name)\n",
    "\n",
    "print()\n",
    "\n",
    "print(dog3)        \n",
    "print(dog3.age)\n",
    "print(dog3.name)"
   ]
  },
  {
   "cell_type": "code",
   "execution_count": 9,
   "metadata": {},
   "outputs": [
    {
     "name": "stdout",
     "output_type": "stream",
     "text": [
      "Buddy says woof\n",
      "\n",
      "Lucy says woof\n"
     ]
    }
   ],
   "source": [
    "# Define class with instance methods\n",
    "class Dog:\n",
    "    def __init__(self,name,age):\n",
    "        self.name=name \n",
    "        self.age=age \n",
    "    \n",
    "    def bark(self):\n",
    "        print(f\"{self.name} says woof\")\n",
    "\n",
    "dog1=Dog(\"Buddy\",3)\n",
    "dog2=Dog(\"Lucy\",2)        \n",
    "dog1.bark()\n",
    "print()\n",
    "dog2.bark()"
   ]
  },
  {
   "cell_type": "code",
   "execution_count": 11,
   "metadata": {},
   "outputs": [
    {
     "name": "stdout",
     "output_type": "stream",
     "text": [
      "100000\n"
     ]
    }
   ],
   "source": [
    "# Modelling a Bank account\n",
    "class BankAccount:\n",
    "    def __init__(self,owner,balance=0):\n",
    "        self.owner=owner \n",
    "        self.balance=balance\n",
    "\n",
    "    def deposit(self,amount):\n",
    "        self.balance+=amount \n",
    "        print(f\"{amount} is deposited.New balance is {self.balance}\")\n",
    "\n",
    "    def withdraw(self,amount):\n",
    "        if amount>self.balance:\n",
    "            print(\"Insufficient balance\")\n",
    "        else:\n",
    "            self.balance-=amount  \n",
    "            print(f\"{amount} is withdrawn.New balance is {self.balance}\")\n",
    "\n",
    "    def get_balance(self):\n",
    "        return self.balance\n",
    "    \n",
    "#Create an object\n",
    "brahmesh_account=BankAccount(\"Brahme\",100000)\n",
    "print(brahmesh_account.balance)\n"
   ]
  },
  {
   "cell_type": "code",
   "execution_count": 12,
   "metadata": {},
   "outputs": [
    {
     "name": "stdout",
     "output_type": "stream",
     "text": [
      "20000 is deposited.New balance is 120000\n"
     ]
    }
   ],
   "source": [
    "#calling instance methods\n",
    "brahmesh_account.deposit(20000)"
   ]
  },
  {
   "cell_type": "code",
   "execution_count": 13,
   "metadata": {},
   "outputs": [
    {
     "name": "stdout",
     "output_type": "stream",
     "text": [
      "100000 is withdrawn.New balance is 20000\n"
     ]
    }
   ],
   "source": [
    "brahmesh_account.withdraw(100000)"
   ]
  },
  {
   "cell_type": "code",
   "execution_count": 15,
   "metadata": {},
   "outputs": [
    {
     "data": {
      "text/plain": [
       "20000"
      ]
     },
     "execution_count": 15,
     "metadata": {},
     "output_type": "execute_result"
    }
   ],
   "source": [
    "brahmesh_account.get_balance()"
   ]
  },
  {
   "cell_type": "code",
   "execution_count": null,
   "metadata": {},
   "outputs": [],
   "source": [
    "# Similarly we can create any number of bank account i.e Objects"
   ]
  }
 ],
 "metadata": {
  "kernelspec": {
   "display_name": "Python 3",
   "language": "python",
   "name": "python3"
  },
  "language_info": {
   "codemirror_mode": {
    "name": "ipython",
    "version": 3
   },
   "file_extension": ".py",
   "mimetype": "text/x-python",
   "name": "python",
   "nbconvert_exporter": "python",
   "pygments_lexer": "ipython3",
   "version": "3.10.14"
  }
 },
 "nbformat": 4,
 "nbformat_minor": 2
}
