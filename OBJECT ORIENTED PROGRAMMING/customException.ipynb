{
 "cells": [
  {
   "cell_type": "markdown",
   "metadata": {
    "vscode": {
     "languageId": "plaintext"
    }
   },
   "source": [
    "CUSTOM EXCEPTION (Raise and Throw an Exception)"
   ]
  },
  {
   "cell_type": "code",
   "execution_count": 1,
   "metadata": {},
   "outputs": [],
   "source": [
    "class Error(Exception):\n",
    "    pass \n",
    "\n",
    "class dobException(Error):\n",
    "    pass "
   ]
  },
  {
   "cell_type": "code",
   "execution_count": 2,
   "metadata": {},
   "outputs": [
    {
     "name": "stdout",
     "output_type": "stream",
     "text": [
      "The age is not valid,you cannot apply for exam\n"
     ]
    }
   ],
   "source": [
    "year=int(input(\"Enter your DOB\"))\n",
    "age=2024-year \n",
    "try:\n",
    "    if age<=30 and age>=20:\n",
    "        print(\"The age is valid,you can apply for exam\")\n",
    "    else:\n",
    "        raise dobException\n",
    "\n",
    "except dobException:\n",
    "    print(\"The age is not valid,you cannot apply for exam\")"
   ]
  },
  {
   "cell_type": "markdown",
   "metadata": {},
   "source": [
    "Raising an Custom Exception"
   ]
  },
  {
   "cell_type": "markdown",
   "metadata": {},
   "source": [
    "The difference between coding and programming can be understood in simple terms:\n",
    "\n",
    "Coding is the act of writing instructions in a specific programming language (like Python, Java, etc.) for a computer to execute. It focuses on translating logic into code.\n",
    "\n",
    "Example: Writing code to calculate the sum of two numbers.\n",
    "Programming is a broader process that involves not just writing code but also designing, testing, debugging, and maintaining the entire software or application. It involves planning how the software works and solving bigger problems.\n",
    "\n",
    "Example: Creating an entire application that includes user interface, databases, and logic, along with writing the code."
   ]
  }
 ],
 "metadata": {
  "kernelspec": {
   "display_name": "Python 3",
   "language": "python",
   "name": "python3"
  },
  "language_info": {
   "codemirror_mode": {
    "name": "ipython",
    "version": 3
   },
   "file_extension": ".py",
   "mimetype": "text/x-python",
   "name": "python",
   "nbconvert_exporter": "python",
   "pygments_lexer": "ipython3",
   "version": "3.10.14"
  }
 },
 "nbformat": 4,
 "nbformat_minor": 2
}
