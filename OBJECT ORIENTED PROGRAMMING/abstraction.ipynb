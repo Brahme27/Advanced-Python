{
 "cells": [
  {
   "cell_type": "markdown",
   "metadata": {
    "vscode": {
     "languageId": "plaintext"
    }
   },
   "source": [
    "ABSTRACTION\n",
    "\n",
    "OOP concept of hiding complex implementation details and \n",
    "showing only necessary information to the outside world.\n",
    "helps in reducing programming complexity and effort"
   ]
  },
  {
   "cell_type": "code",
   "execution_count": 1,
   "metadata": {},
   "outputs": [
    {
     "name": "stdout",
     "output_type": "stream",
     "text": [
      "The vechile is used for driving\n",
      "Car engine is started\n"
     ]
    }
   ],
   "source": [
    "from abc import ABC,abstractmethod\n",
    "\n",
    "# Abstracct class \n",
    "class Vechile(ABC):\n",
    "    def drive(self):\n",
    "        print(\"The vechile is used for driving\")\n",
    "    \n",
    "    @abstractmethod\n",
    "    def start_engine(self):\n",
    "        pass \n",
    "\n",
    "\n",
    "class Car(Vechile):\n",
    "    def start_engine(self): \n",
    "        print(\"Car engine is started\")\n",
    "\n",
    "\n",
    "def operate_vechile(vechile):\n",
    "    vechile.drive()\n",
    "    vechile.start_engine()\n",
    "\n",
    "\n",
    "car=Car()\n",
    "operate_vechile(car)  # Output: The vechile is used for driving Car engine"
   ]
  },
  {
   "cell_type": "code",
   "execution_count": null,
   "metadata": {},
   "outputs": [],
   "source": []
  }
 ],
 "metadata": {
  "kernelspec": {
   "display_name": "Python 3",
   "language": "python",
   "name": "python3"
  },
  "language_info": {
   "codemirror_mode": {
    "name": "ipython",
    "version": 3
   },
   "file_extension": ".py",
   "mimetype": "text/x-python",
   "name": "python",
   "nbconvert_exporter": "python",
   "pygments_lexer": "ipython3",
   "version": "3.10.14"
  }
 },
 "nbformat": 4,
 "nbformat_minor": 2
}
