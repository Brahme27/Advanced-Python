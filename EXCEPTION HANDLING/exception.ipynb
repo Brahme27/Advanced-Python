{
 "cells": [
  {
   "cell_type": "code",
   "execution_count": null,
   "metadata": {},
   "outputs": [],
   "source": [
    "'''\n",
    "Errors: Unrecoverable, related to syntax or environment \n",
    "(e.g., SyntaxError, IndentationError).\n",
    "Exceptions: Recoverable, occur during program execution and can be handled \n",
    "using try-except (e.g., ZeroDivisionError, FileNotFoundError).\n",
    "'''"
   ]
  },
  {
   "cell_type": "code",
   "execution_count": 1,
   "metadata": {},
   "outputs": [],
   "source": [
    "#Exceptions can be handled using try,except blocks"
   ]
  },
  {
   "cell_type": "code",
   "execution_count": 2,
   "metadata": {},
   "outputs": [
    {
     "ename": "NameError",
     "evalue": "name 'b' is not defined",
     "output_type": "error",
     "traceback": [
      "\u001b[1;31m---------------------------------------------------------------------------\u001b[0m",
      "\u001b[1;31mNameError\u001b[0m                                 Traceback (most recent call last)",
      "Cell \u001b[1;32mIn[2], line 1\u001b[0m\n\u001b[1;32m----> 1\u001b[0m a\u001b[38;5;241m=\u001b[39m\u001b[43mb\u001b[49m\n",
      "\u001b[1;31mNameError\u001b[0m: name 'b' is not defined"
     ]
    }
   ],
   "source": [
    "a=b"
   ]
  },
  {
   "cell_type": "code",
   "execution_count": 3,
   "metadata": {},
   "outputs": [
    {
     "name": "stdout",
     "output_type": "stream",
     "text": [
      "variable has not been assigned\n"
     ]
    }
   ],
   "source": [
    "try:\n",
    "    a=b \n",
    "except:\n",
    "    print(\"variable has not been assigned\")    "
   ]
  },
  {
   "cell_type": "code",
   "execution_count": 4,
   "metadata": {},
   "outputs": [
    {
     "name": "stdout",
     "output_type": "stream",
     "text": [
      "name 'b' is not defined\n"
     ]
    }
   ],
   "source": [
    "try:\n",
    "    a=b \n",
    "except NameError as ex:\n",
    "    print(ex)    "
   ]
  },
  {
   "cell_type": "code",
   "execution_count": 5,
   "metadata": {},
   "outputs": [
    {
     "ename": "ZeroDivisionError",
     "evalue": "division by zero",
     "output_type": "error",
     "traceback": [
      "\u001b[1;31m---------------------------------------------------------------------------\u001b[0m",
      "\u001b[1;31mZeroDivisionError\u001b[0m                         Traceback (most recent call last)",
      "Cell \u001b[1;32mIn[5], line 1\u001b[0m\n\u001b[1;32m----> 1\u001b[0m result\u001b[38;5;241m=\u001b[39m\u001b[38;5;241;43m1\u001b[39;49m\u001b[38;5;241;43m/\u001b[39;49m\u001b[38;5;241;43m0\u001b[39;49m\n\u001b[0;32m      2\u001b[0m \u001b[38;5;28mprint\u001b[39m(result)\n",
      "\u001b[1;31mZeroDivisionError\u001b[0m: division by zero"
     ]
    }
   ],
   "source": [
    "result=1/0\n",
    "print(result)"
   ]
  },
  {
   "cell_type": "code",
   "execution_count": 6,
   "metadata": {},
   "outputs": [
    {
     "name": "stdout",
     "output_type": "stream",
     "text": [
      "division by zero\n"
     ]
    }
   ],
   "source": [
    "try:\n",
    "    result=1/0\n",
    "except ZeroDivisionError as ex:\n",
    "    print(ex)"
   ]
  },
  {
   "cell_type": "code",
   "execution_count": 7,
   "metadata": {},
   "outputs": [],
   "source": [
    "#if you dont know what type of exception it is "
   ]
  },
  {
   "cell_type": "code",
   "execution_count": 8,
   "metadata": {},
   "outputs": [
    {
     "name": "stdout",
     "output_type": "stream",
     "text": [
      "name 'b' is not defined\n"
     ]
    }
   ],
   "source": [
    "try:\n",
    "    a=b \n",
    "except Exception as ex :\n",
    "    print(ex)"
   ]
  },
  {
   "cell_type": "code",
   "execution_count": 9,
   "metadata": {},
   "outputs": [
    {
     "name": "stdout",
     "output_type": "stream",
     "text": [
      "division by zero\n"
     ]
    }
   ],
   "source": [
    "try:\n",
    "    result=1/0\n",
    "except Exception as ex:\n",
    "    print(ex)"
   ]
  },
  {
   "cell_type": "code",
   "execution_count": 11,
   "metadata": {},
   "outputs": [
    {
     "name": "stdout",
     "output_type": "stream",
     "text": [
      "the result is 10.0\n"
     ]
    }
   ],
   "source": [
    "#try except ,else block\n",
    "try:\n",
    "    num=int(input(\"Enter a number \"))\n",
    "    result=10/num \n",
    "except ValueError:\n",
    "    print(\"this is not a valid number \")\n",
    "except ZeroDivisionError:\n",
    "    print(\"You cannot divide by zero \")\n",
    "except Exception as e:\n",
    "    print(e)\n",
    "else:\n",
    "    print(f\"the result is {result}\")    "
   ]
  },
  {
   "cell_type": "code",
   "execution_count": null,
   "metadata": {},
   "outputs": [],
   "source": [
    "#Try,except,else,finally\n",
    "''' \n",
    "Summary:\n",
    "\n",
    "try: Test a block of code that may raise an exception.\n",
    "\n",
    "except: Handle the exception if one occurs.\n",
    "\n",
    "else: Execute code if no exceptions occurred.\n",
    "\n",
    "finally: Always execute this block, whether an exception \n",
    "occurred or not.\n",
    "'''"
   ]
  },
  {
   "cell_type": "code",
   "execution_count": 12,
   "metadata": {},
   "outputs": [
    {
     "name": "stdout",
     "output_type": "stream",
     "text": [
      "the result is 1.0\n",
      "Execution completed succesfully\n"
     ]
    }
   ],
   "source": [
    "#try except ,else block\n",
    "try:\n",
    "    num=int(input(\"Enter a number \"))\n",
    "    result=10/num \n",
    "except ValueError:\n",
    "    print(\"this is not a valid number \")\n",
    "except ZeroDivisionError:\n",
    "    print(\"You cannot divide by zero \")\n",
    "except Exception as e:\n",
    "    print(e)\n",
    "else:\n",
    "    print(f\"the result is {result}\")    \n",
    "\n",
    "finally:\n",
    "    print(\"Execution completed succesfully\")"
   ]
  },
  {
   "cell_type": "code",
   "execution_count": 13,
   "metadata": {},
   "outputs": [
    {
     "name": "stdout",
     "output_type": "stream",
     "text": [
      "[Errno 2] No such file or directory: 'example1.txt'\n"
     ]
    }
   ],
   "source": [
    "#File handling and exception handling\n",
    "try:\n",
    "    with open('example1.txt',mode='r') as file:\n",
    "        contents=file.read()\n",
    "        print(contents)\n",
    "except Exception as e:\n",
    "    print(e)\n",
    "finally:\n",
    "    if \"file\" in locals() and not file.closed():\n",
    "        file.close()\n",
    "        print(\"file close\")\n"
   ]
  },
  {
   "cell_type": "code",
   "execution_count": 16,
   "metadata": {},
   "outputs": [
    {
     "name": "stdout",
     "output_type": "stream",
     "text": [
      "This is new file\n",
      "file closed\n"
     ]
    }
   ],
   "source": [
    "#File handling and exception handling\n",
    "try:\n",
    "    with open('newfile.txt',mode='r') as file:\n",
    "        contents=file.read()\n",
    "        #print(contents)\n",
    "except Exception as e:\n",
    "    print(e)\n",
    "else:\n",
    "    print(contents)    \n",
    "finally:\n",
    "        file.close()\n",
    "        print(\"file closed\")\n"
   ]
  },
  {
   "cell_type": "code",
   "execution_count": null,
   "metadata": {},
   "outputs": [],
   "source": [
    "#File handling and exception handling\n",
    "try:\n",
    "    with open('example1.txt',mode='r') as file:\n",
    "        contents=file.read()\n",
    "        print(contents)\n",
    "        a=b\n",
    "except Exception as e:\n",
    "    print(e)\n",
    "finally:\n",
    "    if \"file\" in locals() or not file.closed():\n",
    "        file.close()\n",
    "        print(\"file close\")\n"
   ]
  },
  {
   "cell_type": "code",
   "execution_count": null,
   "metadata": {},
   "outputs": [],
   "source": [
    "''' \n",
    "The condition if \"file\" in locals() or not file.closed: checks two things:\n",
    "\n",
    "If the variable file exists (i.e., it has been defined).\n",
    "If the file is not closed (i.e., the file is still open).\n",
    "If either of these conditions is True, the code inside the if block will execute.\n",
    "'''"
   ]
  },
  {
   "cell_type": "code",
   "execution_count": 17,
   "metadata": {},
   "outputs": [
    {
     "data": {
      "text/plain": [
       "{'__name__': '__main__',\n",
       " '__doc__': 'Automatically created module for IPython interactive environment',\n",
       " '__package__': None,\n",
       " '__loader__': None,\n",
       " '__spec__': None,\n",
       " '__builtin__': <module 'builtins' (built-in)>,\n",
       " '__builtins__': <module 'builtins' (built-in)>,\n",
       " '_ih': ['',\n",
       "  '#Exceptions can be handled using try,except blocks',\n",
       "  'a=b',\n",
       "  'try:\\n    a=b \\nexcept:\\n    print(\"variable has not been assigned\")    ',\n",
       "  'try:\\n    a=b \\nexcept NameError as ex:\\n    print(ex)    ',\n",
       "  'result=1/0\\nprint(result)',\n",
       "  'try:\\n    result=1/0\\nexcept ZeroDivisionError as ex:\\n    print(ex)',\n",
       "  '#if you dont know what type of exception it is ',\n",
       "  'try:\\n    a=b \\nexcept Exception as ex :\\n    print(ex)',\n",
       "  'try:\\n    result=1/0\\nexcept Exception as ex:\\n    print(ex)',\n",
       "  '#try except ,else block\\ntry:\\n    num=int(input(\"Enter a number \"))\\n    result=10/num \\nexcept ValueError:\\n    print(\"this is not a valid number \")\\nexcept ZeroDivisionError:\\n    print(\"You cannot divide by zero \")\\nexcept Exception as e:\\n    print(e)\\nelse:\\n    print(f\"the result is {result}\")    ',\n",
       "  '#try except ,else block\\ntry:\\n    num=int(input(\"Enter a number \"))\\n    result=10/num \\nexcept ValueError:\\n    print(\"this is not a valid number \")\\nexcept ZeroDivisionError:\\n    print(\"You cannot divide by zero \")\\nexcept Exception as e:\\n    print(e)\\nelse:\\n    print(f\"the result is {result}\")    ',\n",
       "  '#try except ,else block\\ntry:\\n    num=int(input(\"Enter a number \"))\\n    result=10/num \\nexcept ValueError:\\n    print(\"this is not a valid number \")\\nexcept ZeroDivisionError:\\n    print(\"You cannot divide by zero \")\\nexcept Exception as e:\\n    print(e)\\nelse:\\n    print(f\"the result is {result}\")    \\n\\nfinally:\\n    print(\"Execution completed succesfully\")',\n",
       "  '#File handling and exception handling\\ntry:\\n    with open(\\'example1.txt\\',mode=\\'r\\') as file:\\n        contents=file.read()\\n        print(contents)\\nexcept Exception as e:\\n    print(e)\\nfinally:\\n    if \"file\" in locals() and not file.closed():\\n        file.close()\\n        print(\"file close\")',\n",
       "  '#File handling and exception handling\\ntry:\\n    with open(\\'textfile.txt\\',mode=\\'r\\') as file:\\n        contents=file.read()\\n        #print(contents)\\nexcept Exception as e:\\n    print(e)\\nelse:\\n    print(contents)    \\nfinally:\\n    if \"file\" in locals() and not file.closed():\\n        file.close()\\n        print(\"file close\")',\n",
       "  '#File handling and exception handling\\ntry:\\n    with open(\\'newfile.txt\\',mode=\\'r\\') as file:\\n        contents=file.read()\\n        #print(contents)\\nexcept Exception as e:\\n    print(e)\\nelse:\\n    print(contents)    \\nfinally:\\n    if \"file\" in locals() and not file.closed():\\n        file.close()\\n        print(\"file close\")',\n",
       "  '#File handling and exception handling\\ntry:\\n    with open(\\'newfile.txt\\',mode=\\'r\\') as file:\\n        contents=file.read()\\n        #print(contents)\\nexcept Exception as e:\\n    print(e)\\nelse:\\n    print(contents)    \\nfinally:\\n        file.close()\\n        print(\"file closed\")',\n",
       "  'locals()'],\n",
       " '_oh': {},\n",
       " '_dh': [WindowsPath('d:/Advanced Python/EXCEPTION HANDLING')],\n",
       " 'In': ['',\n",
       "  '#Exceptions can be handled using try,except blocks',\n",
       "  'a=b',\n",
       "  'try:\\n    a=b \\nexcept:\\n    print(\"variable has not been assigned\")    ',\n",
       "  'try:\\n    a=b \\nexcept NameError as ex:\\n    print(ex)    ',\n",
       "  'result=1/0\\nprint(result)',\n",
       "  'try:\\n    result=1/0\\nexcept ZeroDivisionError as ex:\\n    print(ex)',\n",
       "  '#if you dont know what type of exception it is ',\n",
       "  'try:\\n    a=b \\nexcept Exception as ex :\\n    print(ex)',\n",
       "  'try:\\n    result=1/0\\nexcept Exception as ex:\\n    print(ex)',\n",
       "  '#try except ,else block\\ntry:\\n    num=int(input(\"Enter a number \"))\\n    result=10/num \\nexcept ValueError:\\n    print(\"this is not a valid number \")\\nexcept ZeroDivisionError:\\n    print(\"You cannot divide by zero \")\\nexcept Exception as e:\\n    print(e)\\nelse:\\n    print(f\"the result is {result}\")    ',\n",
       "  '#try except ,else block\\ntry:\\n    num=int(input(\"Enter a number \"))\\n    result=10/num \\nexcept ValueError:\\n    print(\"this is not a valid number \")\\nexcept ZeroDivisionError:\\n    print(\"You cannot divide by zero \")\\nexcept Exception as e:\\n    print(e)\\nelse:\\n    print(f\"the result is {result}\")    ',\n",
       "  '#try except ,else block\\ntry:\\n    num=int(input(\"Enter a number \"))\\n    result=10/num \\nexcept ValueError:\\n    print(\"this is not a valid number \")\\nexcept ZeroDivisionError:\\n    print(\"You cannot divide by zero \")\\nexcept Exception as e:\\n    print(e)\\nelse:\\n    print(f\"the result is {result}\")    \\n\\nfinally:\\n    print(\"Execution completed succesfully\")',\n",
       "  '#File handling and exception handling\\ntry:\\n    with open(\\'example1.txt\\',mode=\\'r\\') as file:\\n        contents=file.read()\\n        print(contents)\\nexcept Exception as e:\\n    print(e)\\nfinally:\\n    if \"file\" in locals() and not file.closed():\\n        file.close()\\n        print(\"file close\")',\n",
       "  '#File handling and exception handling\\ntry:\\n    with open(\\'textfile.txt\\',mode=\\'r\\') as file:\\n        contents=file.read()\\n        #print(contents)\\nexcept Exception as e:\\n    print(e)\\nelse:\\n    print(contents)    \\nfinally:\\n    if \"file\" in locals() and not file.closed():\\n        file.close()\\n        print(\"file close\")',\n",
       "  '#File handling and exception handling\\ntry:\\n    with open(\\'newfile.txt\\',mode=\\'r\\') as file:\\n        contents=file.read()\\n        #print(contents)\\nexcept Exception as e:\\n    print(e)\\nelse:\\n    print(contents)    \\nfinally:\\n    if \"file\" in locals() and not file.closed():\\n        file.close()\\n        print(\"file close\")',\n",
       "  '#File handling and exception handling\\ntry:\\n    with open(\\'newfile.txt\\',mode=\\'r\\') as file:\\n        contents=file.read()\\n        #print(contents)\\nexcept Exception as e:\\n    print(e)\\nelse:\\n    print(contents)    \\nfinally:\\n        file.close()\\n        print(\"file closed\")',\n",
       "  'locals()'],\n",
       " 'Out': {},\n",
       " 'get_ipython': <bound method InteractiveShell.get_ipython of <ipykernel.zmqshell.ZMQInteractiveShell object at 0x000001F131F1DB40>>,\n",
       " 'exit': <IPython.core.autocall.ZMQExitAutocall at 0x1f131f1e5f0>,\n",
       " 'quit': <IPython.core.autocall.ZMQExitAutocall at 0x1f131f1e5f0>,\n",
       " 'open': <function io.open(file, mode='r', buffering=-1, encoding=None, errors=None, newline=None, closefd=True, opener=None)>,\n",
       " '_': '',\n",
       " '__': '',\n",
       " '___': '',\n",
       " '__vsc_ipynb_file__': 'd:\\\\Advanced Python\\\\EXCEPTION HANDLING\\\\exception.ipynb',\n",
       " '_i': '#File handling and exception handling\\ntry:\\n    with open(\\'newfile.txt\\',mode=\\'r\\') as file:\\n        contents=file.read()\\n        #print(contents)\\nexcept Exception as e:\\n    print(e)\\nelse:\\n    print(contents)    \\nfinally:\\n        file.close()\\n        print(\"file closed\")',\n",
       " '_ii': '#File handling and exception handling\\ntry:\\n    with open(\\'newfile.txt\\',mode=\\'r\\') as file:\\n        contents=file.read()\\n        #print(contents)\\nexcept Exception as e:\\n    print(e)\\nelse:\\n    print(contents)    \\nfinally:\\n    if \"file\" in locals() and not file.closed():\\n        file.close()\\n        print(\"file close\")',\n",
       " '_iii': '#File handling and exception handling\\ntry:\\n    with open(\\'textfile.txt\\',mode=\\'r\\') as file:\\n        contents=file.read()\\n        #print(contents)\\nexcept Exception as e:\\n    print(e)\\nelse:\\n    print(contents)    \\nfinally:\\n    if \"file\" in locals() and not file.closed():\\n        file.close()\\n        print(\"file close\")',\n",
       " '_i1': '#Exceptions can be handled using try,except blocks',\n",
       " '_i2': 'a=b',\n",
       " '_i3': 'try:\\n    a=b \\nexcept:\\n    print(\"variable has not been assigned\")    ',\n",
       " '_i4': 'try:\\n    a=b \\nexcept NameError as ex:\\n    print(ex)    ',\n",
       " '_i5': 'result=1/0\\nprint(result)',\n",
       " '_i6': 'try:\\n    result=1/0\\nexcept ZeroDivisionError as ex:\\n    print(ex)',\n",
       " '_i7': '#if you dont know what type of exception it is ',\n",
       " '_i8': 'try:\\n    a=b \\nexcept Exception as ex :\\n    print(ex)',\n",
       " '_i9': 'try:\\n    result=1/0\\nexcept Exception as ex:\\n    print(ex)',\n",
       " '_i10': '#try except ,else block\\ntry:\\n    num=int(input(\"Enter a number \"))\\n    result=10/num \\nexcept ValueError:\\n    print(\"this is not a valid number \")\\nexcept ZeroDivisionError:\\n    print(\"You cannot divide by zero \")\\nexcept Exception as e:\\n    print(e)\\nelse:\\n    print(f\"the result is {result}\")    ',\n",
       " 'num': 10,\n",
       " '_i11': '#try except ,else block\\ntry:\\n    num=int(input(\"Enter a number \"))\\n    result=10/num \\nexcept ValueError:\\n    print(\"this is not a valid number \")\\nexcept ZeroDivisionError:\\n    print(\"You cannot divide by zero \")\\nexcept Exception as e:\\n    print(e)\\nelse:\\n    print(f\"the result is {result}\")    ',\n",
       " 'result': 1.0,\n",
       " '_i12': '#try except ,else block\\ntry:\\n    num=int(input(\"Enter a number \"))\\n    result=10/num \\nexcept ValueError:\\n    print(\"this is not a valid number \")\\nexcept ZeroDivisionError:\\n    print(\"You cannot divide by zero \")\\nexcept Exception as e:\\n    print(e)\\nelse:\\n    print(f\"the result is {result}\")    \\n\\nfinally:\\n    print(\"Execution completed succesfully\")',\n",
       " '_i13': '#File handling and exception handling\\ntry:\\n    with open(\\'example1.txt\\',mode=\\'r\\') as file:\\n        contents=file.read()\\n        print(contents)\\nexcept Exception as e:\\n    print(e)\\nfinally:\\n    if \"file\" in locals() and not file.closed():\\n        file.close()\\n        print(\"file close\")',\n",
       " '_i14': '#File handling and exception handling\\ntry:\\n    with open(\\'textfile.txt\\',mode=\\'r\\') as file:\\n        contents=file.read()\\n        #print(contents)\\nexcept Exception as e:\\n    print(e)\\nelse:\\n    print(contents)    \\nfinally:\\n    if \"file\" in locals() and not file.closed():\\n        file.close()\\n        print(\"file close\")',\n",
       " '_i15': '#File handling and exception handling\\ntry:\\n    with open(\\'newfile.txt\\',mode=\\'r\\') as file:\\n        contents=file.read()\\n        #print(contents)\\nexcept Exception as e:\\n    print(e)\\nelse:\\n    print(contents)    \\nfinally:\\n    if \"file\" in locals() and not file.closed():\\n        file.close()\\n        print(\"file close\")',\n",
       " 'file': <_io.TextIOWrapper name='newfile.txt' mode='r' encoding='UTF-8'>,\n",
       " 'contents': 'This is new file',\n",
       " '_i16': '#File handling and exception handling\\ntry:\\n    with open(\\'newfile.txt\\',mode=\\'r\\') as file:\\n        contents=file.read()\\n        #print(contents)\\nexcept Exception as e:\\n    print(e)\\nelse:\\n    print(contents)    \\nfinally:\\n        file.close()\\n        print(\"file closed\")',\n",
       " '_i17': 'locals()'}"
      ]
     },
     "execution_count": 17,
     "metadata": {},
     "output_type": "execute_result"
    }
   ],
   "source": [
    "locals()"
   ]
  },
  {
   "cell_type": "code",
   "execution_count": null,
   "metadata": {},
   "outputs": [],
   "source": []
  }
 ],
 "metadata": {
  "kernelspec": {
   "display_name": "Python 3",
   "language": "python",
   "name": "python3"
  },
  "language_info": {
   "codemirror_mode": {
    "name": "ipython",
    "version": 3
   },
   "file_extension": ".py",
   "mimetype": "text/x-python",
   "name": "python",
   "nbconvert_exporter": "python",
   "pygments_lexer": "ipython3",
   "version": "3.10.14"
  }
 },
 "nbformat": 4,
 "nbformat_minor": 2
}
